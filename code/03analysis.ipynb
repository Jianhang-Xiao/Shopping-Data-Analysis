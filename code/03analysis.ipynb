{
 "cells": [
  {
   "cell_type": "markdown",
   "metadata": {},
   "source": [
    "## Data Analysis I\n",
    "\n",
    "Lastly, we will answer the following questions using pandas methods: \n",
    "\n",
    "* What are the most popular colors by season?\n",
    "* What is the most popular clothing item by season?\n",
    "* What is the effect of promo-codes on the dollar-amount of purchases?\n",
    "* When do users leave a review?\n",
    "* Do states vary in the items they purchase in the Fall?\n",
    "\n",
    "Utilize the documentation provided in each code-block. When you are done with this section of the project, validate that your output matches the screenshot provided in the `docs/part3.md` file and answer the questions located underneath `Data Analysis II` in your own words."
   ]
  },
  {
   "cell_type": "code",
   "execution_count": 26,
   "metadata": {},
   "outputs": [],
   "source": [
    "import pandas as pd\n",
    "import numpy as np\n",
    "\n",
    "import matplotlib.pyplot as plt\n",
    "import seaborn as sns\n",
    "\n",
    "from scipy import stats"
   ]
  },
  {
   "cell_type": "code",
   "execution_count": 27,
   "metadata": {},
   "outputs": [],
   "source": [
    "# TODO: load `data/processed/shopping_cleaned.csv` as a pandas dataframe\n",
    "\n",
    "df = pd.read_csv(\"../data/processed/shopping_cleaned.csv\")"
   ]
  },
  {
   "cell_type": "code",
   "execution_count": 28,
   "metadata": {},
   "outputs": [],
   "source": [
    "# TODO: Create a dataframe pivot table where \"Season\" is your column, \"Color\" is your index, and \"Location\" is your value (this value is arbitrary)\n",
    "# use the len function as the \"aggfunc\" parameter.\n",
    "# Save this pivot table to a new variable\n",
    "# Documentation: https://pandas.pydata.org/docs/reference/api/pandas.pivot_table.html\n",
    "\n",
    "df_pivot=pd.pivot_table(df, values='Location', index='Color', columns='Season', aggfunc=len, fill_value=0)"
   ]
  },
  {
   "cell_type": "code",
   "execution_count": 29,
   "metadata": {},
   "outputs": [
    {
     "name": "stdout",
     "output_type": "stream",
     "text": [
      "Season                Fall  Spring  Summer  Winter\n",
      "Color                                             \n",
      "Aubergine               83       2      13     111\n",
      "Baby blue               16      69      84      21\n",
      "Black                   84       5       9     124\n",
      "Brick red               88       7      12     110\n",
      "Brown                   97       5       3      89\n",
      "Burnt orange            93       4       5     112\n",
      "Fuchsia                  3      45      78      18\n",
      "Lavender                13      55     102       6\n",
      "Lemon yellow             9      47      98      13\n",
      "Mauve                   86       5       7      95\n",
      "Muted mustard yellow    84       8      13      87\n",
      "Pale peach               9      52      81      15\n",
      "Periwinkle               9      54      82       8\n",
      "Ruby Red                90       3       8     107\n",
      "Terra cotta             91       4      15     101\n",
      "Turquoise                7      49      74      16\n",
      "White                   10      63      81      11\n"
     ]
    }
   ],
   "source": [
    "# TODO: Display this pivot table\n",
    "print(df_pivot)\n"
   ]
  },
  {
   "cell_type": "code",
   "execution_count": 30,
   "metadata": {},
   "outputs": [
    {
     "name": "stdout",
     "output_type": "stream",
     "text": [
      "Color\n",
      "Brown                   97\n",
      "Burnt orange            93\n",
      "Terra cotta             91\n",
      "Ruby Red                90\n",
      "Brick red               88\n",
      "Mauve                   86\n",
      "Black                   84\n",
      "Muted mustard yellow    84\n",
      "Aubergine               83\n",
      "Baby blue               16\n",
      "Lavender                13\n",
      "White                   10\n",
      "Periwinkle               9\n",
      "Pale peach               9\n",
      "Lemon yellow             9\n",
      "Turquoise                7\n",
      "Fuchsia                  3\n",
      "Name: Fall, dtype: int64\n"
     ]
    }
   ],
   "source": [
    "# TODO: Select the \"Fall\" column from this pivot table and display the sort order in descending order\n",
    "# Documentation: https://pandas.pydata.org/docs/reference/api/pandas.DataFrame.sort_values.html\n",
    "\n",
    "fall_column = df_pivot['Fall'].sort_values(ascending=False)\n",
    "\n",
    "print(fall_column)"
   ]
  },
  {
   "cell_type": "code",
   "execution_count": 31,
   "metadata": {},
   "outputs": [
    {
     "name": "stdout",
     "output_type": "stream",
     "text": [
      "Color\n",
      "Black                   124\n",
      "Burnt orange            112\n",
      "Aubergine               111\n",
      "Brick red               110\n",
      "Ruby Red                107\n",
      "Terra cotta             101\n",
      "Mauve                    95\n",
      "Brown                    89\n",
      "Muted mustard yellow     87\n",
      "Baby blue                21\n",
      "Fuchsia                  18\n",
      "Turquoise                16\n",
      "Pale peach               15\n",
      "Lemon yellow             13\n",
      "White                    11\n",
      "Periwinkle                8\n",
      "Lavender                  6\n",
      "Name: Winter, dtype: int64\n"
     ]
    }
   ],
   "source": [
    "# TODO: Select the \"Winter\" column from this pivot table and display the sort order in descending order\n",
    "\n",
    "winter_column = df_pivot['Winter'].sort_values(ascending=False)\n",
    "\n",
    "print(winter_column)"
   ]
  },
  {
   "cell_type": "code",
   "execution_count": 32,
   "metadata": {},
   "outputs": [
    {
     "name": "stdout",
     "output_type": "stream",
     "text": [
      "Color\n",
      "Baby blue               69\n",
      "White                   63\n",
      "Lavender                55\n",
      "Periwinkle              54\n",
      "Pale peach              52\n",
      "Turquoise               49\n",
      "Lemon yellow            47\n",
      "Fuchsia                 45\n",
      "Muted mustard yellow     8\n",
      "Brick red                7\n",
      "Mauve                    5\n",
      "Brown                    5\n",
      "Black                    5\n",
      "Burnt orange             4\n",
      "Terra cotta              4\n",
      "Ruby Red                 3\n",
      "Aubergine                2\n",
      "Name: Spring, dtype: int64\n"
     ]
    }
   ],
   "source": [
    "# TODO: Select the \"Spring\" column from this pivot table and display the sort order in descending order\n",
    "\n",
    "spring_column = df_pivot['Spring'].sort_values(ascending=False)\n",
    "\n",
    "print(spring_column)"
   ]
  },
  {
   "cell_type": "code",
   "execution_count": 33,
   "metadata": {},
   "outputs": [
    {
     "name": "stdout",
     "output_type": "stream",
     "text": [
      "Color\n",
      "Lavender                102\n",
      "Lemon yellow             98\n",
      "Baby blue                84\n",
      "Periwinkle               82\n",
      "Pale peach               81\n",
      "White                    81\n",
      "Fuchsia                  78\n",
      "Turquoise                74\n",
      "Terra cotta              15\n",
      "Muted mustard yellow     13\n",
      "Aubergine                13\n",
      "Brick red                12\n",
      "Black                     9\n",
      "Ruby Red                  8\n",
      "Mauve                     7\n",
      "Burnt orange              5\n",
      "Brown                     3\n",
      "Name: Summer, dtype: int64\n"
     ]
    }
   ],
   "source": [
    "# TODO: Select the \"Summer\" column from this pivot table and display the sort order in descending order\n",
    "\n",
    "summer_column = df_pivot['Summer'].sort_values(ascending=False)\n",
    "\n",
    "print(summer_column)"
   ]
  },
  {
   "cell_type": "code",
   "execution_count": 34,
   "metadata": {},
   "outputs": [
    {
     "name": "stdout",
     "output_type": "stream",
     "text": [
      "Season\n",
      "Fall          Brown\n",
      "Spring    Baby blue\n",
      "Summer     Lavender\n",
      "Winter        Black\n",
      "dtype: object\n"
     ]
    }
   ],
   "source": [
    "# TODO: Using the \"idmax\" method, get the index with the maximum value for each column\n",
    "# Documentation: https://pandas.pydata.org/docs/reference/api/pandas.DataFrame.idxmax.html\n",
    "df_pivot_idmax=df_pivot.idxmax()\n",
    "print(df_pivot_idmax)\n"
   ]
  },
  {
   "cell_type": "code",
   "execution_count": 35,
   "metadata": {},
   "outputs": [
    {
     "name": "stdout",
     "output_type": "stream",
     "text": [
      "Season          Fall  Spring  Summer  Winter\n",
      "Item Purchased                              \n",
      "Backpack          72       0       0     113\n",
      "Belt              25       0       0       0\n",
      "Boots             51       0       0      83\n",
      "Dress             36      74     118       0\n",
      "Gloves            68       0       0     112\n",
      "Handbag           31      78     111       0\n",
      "Hoodie            58       0       0     105\n",
      "Jacket            47       0       0      87\n",
      "Jeans             46       0       0       0\n",
      "Leggings          58       0       0     118\n",
      "Pajamas           65       0       0     111\n",
      "Running Shoes     25      89     134       0\n",
      "Scarf             56       0       0     101\n",
      "Shorts            31      76     152       0\n",
      "Socks             71       0       0     101\n",
      "Sunglasses        43      80     135       0\n",
      "Sweater           72       0       0     113\n",
      "T-shirt           17      80     115       0\n"
     ]
    }
   ],
   "source": [
    "# TODO: Create a dataframe pivot table where \"Season\" is your column, \"Item Purchased\" is your index, and \"Location\" is your value (this value is arbitrary)\n",
    "# use the len function as the \"aggfunc\" parameter.\n",
    "# Save this pivot table to a new variable and display it\n",
    "\n",
    "df_pivot2=pd.pivot_table(df, values='Location', index='Item Purchased', columns='Season', aggfunc=len, fill_value=0)\n",
    "print(df_pivot2)"
   ]
  },
  {
   "cell_type": "code",
   "execution_count": 36,
   "metadata": {},
   "outputs": [
    {
     "name": "stdout",
     "output_type": "stream",
     "text": [
      "Season\n",
      "Fall           Backpack\n",
      "Spring    Running Shoes\n",
      "Summer           Shorts\n",
      "Winter         Leggings\n",
      "dtype: object\n"
     ]
    }
   ],
   "source": [
    "# TODO: Using the \"idmax\" method, get the index with the maximum value for each column on the pivot table containing clothing items & season\n",
    "# Documentation: https://pandas.pydata.org/docs/reference/api/pandas.DataFrame.idxmax.html\n",
    "df_pivot2_idmax=df_pivot2.idxmax()\n",
    "print(df_pivot2_idmax)\n"
   ]
  },
  {
   "cell_type": "code",
   "execution_count": 37,
   "metadata": {},
   "outputs": [
    {
     "name": "stdout",
     "output_type": "stream",
     "text": [
      "DataFrame for Promo Code Users:\n",
      "       Age  Gender Item Purchased  Purchase Amount (USD)       Location Size  \\\n",
      "1785  36.0  Female  Running Shoes              62.442101  Massachusetts    L   \n",
      "1786  57.0    Male       Backpack              51.969839       Michigan    M   \n",
      "1787  26.0    Male          Socks              54.899050      Wisconsin    M   \n",
      "1788  36.0  Female        Handbag              46.883976       Delaware    S   \n",
      "1789  34.0  Female       Backpack              45.171082          Texas    L   \n",
      "\n",
      "          Color  Season Review Rating   Shipping Type Promo Code Used  \\\n",
      "1785      White  Summer       Present        Standard             Yes   \n",
      "1786  Aubergine    Fall       Present  2-Day Shipping             Yes   \n",
      "1787      Black    Fall       Present  2-Day Shipping             Yes   \n",
      "1788      Mauve  Summer       Present  2-Day Shipping             Yes   \n",
      "1789      Mauve  Winter       Present  2-Day Shipping             Yes   \n",
      "\n",
      "      Previous Purchases Payment Method  \n",
      "1785                   0    Credit Card  \n",
      "1786                   1    Credit Card  \n",
      "1787                   0    Credit Card  \n",
      "1788                   2    Credit Card  \n",
      "1789                  13    Credit Card  \n",
      "DataFrame for Non-Promo Code Users:\n",
      "    Age Gender Item Purchased  Purchase Amount (USD)    Location Size  \\\n",
      "0  31.0   Male       Leggings              24.231704      Nevada    M   \n",
      "1  38.0   Male     Sunglasses              36.545487      Oregon    S   \n",
      "2  26.0   Male       Leggings              23.595139      Nevada   XL   \n",
      "3  43.0   Male          Dress              34.079015  California    M   \n",
      "4  29.0   Male         Shorts              23.796439   Minnesota    M   \n",
      "\n",
      "         Color  Season Review Rating Shipping Type Promo Code Used  \\\n",
      "0  Terra cotta  Winter       Present      Standard              No   \n",
      "1    Aubergine  Summer       Present      Standard              No   \n",
      "2        Brown  Winter       Present      Standard              No   \n",
      "3  Terra cotta    Fall       Present      Standard              No   \n",
      "4     Lavender  Summer       Present       Express              No   \n",
      "\n",
      "   Previous Purchases Payment Method  \n",
      "0                   0    Credit Card  \n",
      "1                   0    Credit Card  \n",
      "2                   3    Credit Card  \n",
      "3                   0    Credit Card  \n",
      "4                   0    Credit Card  \n"
     ]
    }
   ],
   "source": [
    "# TODO: Create two data-frames for promo-code users and non-promo-code users using boolean indexing\n",
    "# Save these two dataframes into seperate variables \n",
    "# Documentation: https://pandas.pydata.org/docs/user_guide/indexing.html#boolean-indexing\n",
    "# Hint: Users that have used a promo code have the value \"Yes\" in the column \"Promo Code Used\"\n",
    "\n",
    "promo_code_users = df[df['Promo Code Used'] == 'Yes']\n",
    "\n",
    "non_promo_code_users = df[df['Promo Code Used'] == 'No']\n",
    "\n",
    "print(\"DataFrame for Promo Code Users:\")\n",
    "print(promo_code_users.head())\n",
    "\n",
    "print(\"DataFrame for Non-Promo Code Users:\")\n",
    "print(non_promo_code_users.head())"
   ]
  },
  {
   "cell_type": "code",
   "execution_count": 38,
   "metadata": {},
   "outputs": [
    {
     "data": {
      "text/plain": [
       "(1373, 13)"
      ]
     },
     "execution_count": 38,
     "metadata": {},
     "output_type": "execute_result"
    }
   ],
   "source": [
    "# TODO: Print the shape of the promo code users dataframe. This should be (1373, 13)\n",
    "\n",
    "promo_code_users.shape"
   ]
  },
  {
   "cell_type": "code",
   "execution_count": 39,
   "metadata": {},
   "outputs": [
    {
     "name": "stdout",
     "output_type": "stream",
     "text": [
      "50.06747998236351\n"
     ]
    }
   ],
   "source": [
    "# TODO: Print the average purchase size of promo code users dataframe. This should be 50.06747998236351\n",
    "\n",
    "average_purchase_size = promo_code_users['Purchase Amount (USD)'].mean()\n",
    "print(average_purchase_size)"
   ]
  },
  {
   "cell_type": "code",
   "execution_count": 40,
   "metadata": {},
   "outputs": [
    {
     "data": {
      "text/plain": [
       "(1785, 13)"
      ]
     },
     "execution_count": 40,
     "metadata": {},
     "output_type": "execute_result"
    }
   ],
   "source": [
    "# TODO: Print the shape of the non promo code users dataframe. This should be (1785, 13)\n",
    "\n",
    "non_promo_code_users.shape\n"
   ]
  },
  {
   "cell_type": "code",
   "execution_count": 41,
   "metadata": {},
   "outputs": [
    {
     "name": "stdout",
     "output_type": "stream",
     "text": [
      "30.155750765104113\n"
     ]
    }
   ],
   "source": [
    "# TODO: Print the average purchase size of non promo code users dataframe. This should be 30.155750765104113\n",
    "\n",
    "average_purchase_size = non_promo_code_users['Purchase Amount (USD)'].mean()\n",
    "print(average_purchase_size)"
   ]
  },
  {
   "cell_type": "markdown",
   "metadata": {},
   "source": [
    "Formulate a null hypothesis regarding the dollar amount spent between promo-code users & non-promo-code users"
   ]
  },
  {
   "cell_type": "markdown",
   "metadata": {},
   "source": [
    "promo-code will affect the amount spending between promo-code users and non-promo-code users.  "
   ]
  },
  {
   "cell_type": "markdown",
   "metadata": {},
   "source": [
    "Formulate an alternative hypothesis regarding the dollar amount spent between promo-code users & non-promo-code users"
   ]
  },
  {
   "cell_type": "markdown",
   "metadata": {},
   "source": [
    "promo-code will not affect the amount spending between promo-code users and non-promo-code users. "
   ]
  },
  {
   "cell_type": "code",
   "execution_count": 42,
   "metadata": {},
   "outputs": [],
   "source": [
    "# TODO: Using the \"ttest_ind\" method from \"scipy.stats\", run a T-Test between the dollar amount spent of promo-code users and non promo-code users\n",
    "# The t-statistic you should observe is 93.2464714350831\n",
    "# Documentation: https://docs.scipy.org/doc/scipy/reference/generated/scipy.stats.ttest_ind.html\n",
    "\n",
    "from scipy.stats import ttest_ind\n"
   ]
  },
  {
   "cell_type": "code",
   "execution_count": 43,
   "metadata": {},
   "outputs": [
    {
     "data": {
      "text/plain": [
       "TtestResult(statistic=93.2464714350831, pvalue=0.0, df=3156.0)"
      ]
     },
     "execution_count": 43,
     "metadata": {},
     "output_type": "execute_result"
    }
   ],
   "source": [
    "t_statistic = ttest_ind(promo_code_users['Purchase Amount (USD)'], non_promo_code_users['Purchase Amount (USD)'])\n",
    "t_statistic"
   ]
  },
  {
   "cell_type": "code",
   "execution_count": 44,
   "metadata": {},
   "outputs": [],
   "source": [
    "# TODO: Group your dataframe according to the \"Review Rating\" column. This should produce two groups for the values \"Missing\" & \"Present\"\n",
    "# Save this grouped dataframe into a new variable named \"g_review\"\n",
    "# Documentation: https://pandas.pydata.org/docs/reference/api/pandas.DataFrame.groupby.html\n",
    "\n",
    "g_review=df.groupby('Review Rating')"
   ]
  },
  {
   "cell_type": "code",
   "execution_count": 45,
   "metadata": {},
   "outputs": [
    {
     "data": {
      "text/plain": [
       "dict_keys(['Present'])"
      ]
     },
     "execution_count": 45,
     "metadata": {},
     "output_type": "execute_result"
    }
   ],
   "source": [
    "# TODO: Print out the keys of this dataframe for validation. This should output \"dict_keys(['Missing', 'Present'])\"\n",
    "# Documentation: https://pandas.pydata.org/docs/reference/api/pandas.DataFrame.keys.html\n",
    "\n",
    "g_review.groups.keys()\n"
   ]
  },
  {
   "cell_type": "code",
   "execution_count": 46,
   "metadata": {},
   "outputs": [
    {
     "name": "stdout",
     "output_type": "stream",
     "text": [
      "Average values for each group:\n",
      "               Purchase Amount (USD)        Age  Previous Purchases\n",
      "Review Rating                                                      \n",
      "Present                     38.81275  34.185244            5.860988\n"
     ]
    }
   ],
   "source": [
    "# TODO: calculate the average of the \"Purchase Amount (USD)\", \"Age\", and \"Previous Purchases\" columns in our grouped dataframe\n",
    "# output the values for display\n",
    "# Documentation: https://pandas.pydata.org/docs/reference/api/pandas.DataFrame.mean.html\n",
    "# Documentation: https://pandas.pydata.org/docs/getting_started/intro_tutorials/03_subset_data.html\n",
    "columns_to_average = [\"Purchase Amount (USD)\", \"Age\", \"Previous Purchases\"]\n",
    "average_values = g_review[columns_to_average].mean()\n",
    "print(\"Average values for each group:\")\n",
    "print(average_values)\n"
   ]
  },
  {
   "cell_type": "code",
   "execution_count": 47,
   "metadata": {},
   "outputs": [
    {
     "ename": "NameError",
     "evalue": "name 'bin_labels' is not defined",
     "output_type": "error",
     "traceback": [
      "\u001b[1;31m---------------------------------------------------------------------------\u001b[0m",
      "\u001b[1;31mNameError\u001b[0m                                 Traceback (most recent call last)",
      "\u001b[1;32mc:\\Users\\xiaoj\\Desktop\\TKH\\Week 8--11.20 SQL\\TLab 3-Shopping Data Analytics\\shopping-behavior\\code\\03analysis.ipynb Cell 27\u001b[0m line \u001b[0;36m6\n\u001b[0;32m      <a href='vscode-notebook-cell:/c%3A/Users/xiaoj/Desktop/TKH/Week%208--11.20%20SQL/TLab%203-Shopping%20Data%20Analytics/shopping-behavior/code/03analysis.ipynb#X35sZmlsZQ%3D%3D?line=0'>1</a>\u001b[0m \u001b[39m# TODO: Create a new column called \"Prev Purchase Group\" on your original dataframe which seperates your dataframe into \u001b[39;00m\n\u001b[0;32m      <a href='vscode-notebook-cell:/c%3A/Users/xiaoj/Desktop/TKH/Week%208--11.20%20SQL/TLab%203-Shopping%20Data%20Analytics/shopping-behavior/code/03analysis.ipynb#X35sZmlsZQ%3D%3D?line=1'>2</a>\u001b[0m \u001b[39m# two groups of shoppers based on their \"Previous Purchases\" column using the \"pd.cut\" method. \u001b[39;00m\n\u001b[0;32m      <a href='vscode-notebook-cell:/c%3A/Users/xiaoj/Desktop/TKH/Week%208--11.20%20SQL/TLab%203-Shopping%20Data%20Analytics/shopping-behavior/code/03analysis.ipynb#X35sZmlsZQ%3D%3D?line=2'>3</a>\u001b[0m \u001b[39m# Ensure that you are only creating 2 \"bins\" and label these respective bins as [\"Low\", \"High\"]\u001b[39;00m\n\u001b[0;32m      <a href='vscode-notebook-cell:/c%3A/Users/xiaoj/Desktop/TKH/Week%208--11.20%20SQL/TLab%203-Shopping%20Data%20Analytics/shopping-behavior/code/03analysis.ipynb#X35sZmlsZQ%3D%3D?line=3'>4</a>\u001b[0m \u001b[39m# Documentation: https://pandas.pydata.org/docs/reference/api/pandas.cut.html\u001b[39;00m\n\u001b[1;32m----> <a href='vscode-notebook-cell:/c%3A/Users/xiaoj/Desktop/TKH/Week%208--11.20%20SQL/TLab%203-Shopping%20Data%20Analytics/shopping-behavior/code/03analysis.ipynb#X35sZmlsZQ%3D%3D?line=5'>6</a>\u001b[0m df[\u001b[39m'\u001b[39m\u001b[39mPrev Purchase Group\u001b[39m\u001b[39m'\u001b[39m] \u001b[39m=\u001b[39m pd\u001b[39m.\u001b[39mcut(df[\u001b[39m'\u001b[39m\u001b[39mPrevious Purchases\u001b[39m\u001b[39m'\u001b[39m], bins\u001b[39m=\u001b[39m\u001b[39m2\u001b[39m, labels\u001b[39m=\u001b[39mbin_labels, include_lowest\u001b[39m=\u001b[39m\u001b[39mTrue\u001b[39;00m)\n\u001b[0;32m      <a href='vscode-notebook-cell:/c%3A/Users/xiaoj/Desktop/TKH/Week%208--11.20%20SQL/TLab%203-Shopping%20Data%20Analytics/shopping-behavior/code/03analysis.ipynb#X35sZmlsZQ%3D%3D?line=7'>8</a>\u001b[0m \u001b[39mprint\u001b[39m(df\u001b[39m.\u001b[39mhead())\n",
      "\u001b[1;31mNameError\u001b[0m: name 'bin_labels' is not defined"
     ]
    }
   ],
   "source": [
    "# TODO: Create a new column called \"Prev Purchase Group\" on your original dataframe which seperates your dataframe into \n",
    "# two groups of shoppers based on their \"Previous Purchases\" column using the \"pd.cut\" method. \n",
    "# Ensure that you are only creating 2 \"bins\" and label these respective bins as [\"Low\", \"High\"]\n",
    "# Documentation: https://pandas.pydata.org/docs/reference/api/pandas.cut.html\n",
    "\n",
    "df['Prev Purchase Group'] = pd.cut(df['Previous Purchases'], bins=2, labels=bin_labels, include_lowest=True)\n",
    "\n",
    "print(df.head())\n",
    "\n"
   ]
  },
  {
   "cell_type": "code",
   "execution_count": null,
   "metadata": {},
   "outputs": [
    {
     "data": {
      "text/plain": [
       "Review Rating\n",
       "Missing    1686\n",
       "Present     840\n",
       "Name: count, dtype: int64"
      ]
     },
     "execution_count": 56,
     "metadata": {},
     "output_type": "execute_result"
    }
   ],
   "source": [
    "# TODO: Using the \"value_counts\" function, count how many Missing & Present values are in the \"Low\" group\n",
    "# Display this value for analysis \n",
    "# Documentation: https://pandas.pydata.org/docs/reference/api/pandas.Series.value_counts.html\n",
    "# Hint: You will have to use Boolean Indexing\n",
    "\n",
    "df[df[\"Prev Purchase Group\"]==\"Low\"][\"Review Rating\"].value_counts()"
   ]
  },
  {
   "cell_type": "code",
   "execution_count": null,
   "metadata": {},
   "outputs": [
    {
     "data": {
      "text/plain": [
       "Review Rating\n",
       "Missing    334\n",
       "Present    298\n",
       "Name: count, dtype: int64"
      ]
     },
     "execution_count": 57,
     "metadata": {},
     "output_type": "execute_result"
    }
   ],
   "source": [
    "# TODO: Using the \"value_counts\" function, count how many Missing & Present values are in the \"High\" group\n",
    "# Display this value for analysis \n",
    "# Documentation: https://pandas.pydata.org/docs/reference/api/pandas.Series.value_counts.html\n",
    "# Hint: You will have to use Boolean Indexing\n",
    "\n",
    "df[df[\"Prev Purchase Group\"]==\"High\"][\"Review Rating\"].value_counts()"
   ]
  },
  {
   "cell_type": "markdown",
   "metadata": {},
   "source": [
    "## Data Analysis II\n",
    "\n",
    "In the next section, answer the primary analytical questions in your own words."
   ]
  },
  {
   "cell_type": "markdown",
   "metadata": {},
   "source": [
    "### Q1\n",
    "\n",
    "What are the top three colors for Fall & Winter?"
   ]
  },
  {
   "cell_type": "markdown",
   "metadata": {},
   "source": [
    "Fall top three colors: \n",
    "Brown                   97\n",
    "Burnt orange            93\n",
    "Terra cotta             91\n",
    "Winter top three colors\n",
    "Black                   124\n",
    "Burnt orange            112\n",
    "Aubergine               111"
   ]
  },
  {
   "cell_type": "markdown",
   "metadata": {},
   "source": [
    "### Q2\n",
    "\n",
    "What are the top three colors for Spring & Summer?"
   ]
  },
  {
   "cell_type": "markdown",
   "metadata": {},
   "source": [
    "Spring:\n",
    "Color\n",
    "Baby blue               69\n",
    "White                   63\n",
    "Lavender                55\n",
    "Summer: \n",
    "Color\n",
    "Lavender                102\n",
    "Lemon yellow             98\n",
    "Baby blue                84\n"
   ]
  },
  {
   "cell_type": "markdown",
   "metadata": {},
   "source": [
    "### Q3\n",
    "\n",
    "What is the most popular clothing item by season?"
   ]
  },
  {
   "cell_type": "markdown",
   "metadata": {},
   "source": [
    "Fall           Backpack\n",
    "Spring    Running Shoes\n",
    "Summer           Shorts\n",
    "Winter         Leggings"
   ]
  },
  {
   "cell_type": "markdown",
   "metadata": {},
   "source": [
    "### Q4\n",
    "\n",
    "Observing the p-value that we got when running our t-test between promo-code and non-promo-code users, what can we conclude regarding our null hypothesis?\n",
    "\n",
    "t-statistic of 93.2464714350831. If the p-value is sufficiently low (e.g., less than 0.05), you would likely reject the null hypothesis.\n"
   ]
  },
  {
   "cell_type": "markdown",
   "metadata": {},
   "source": [
    "93.2464714350831"
   ]
  },
  {
   "cell_type": "markdown",
   "metadata": {},
   "source": [
    "### Q5\n",
    "\n",
    "Observe the `value_counts` output for the \"Review Rating\" column for both your \"High\" and \"Low\" groups. Proportionally speaking, which group is more likely to leave a review? Why might this be happening from the \"human\"-perspective? Rationalizations are ok at this point, even if they aren't backed up by data."
   ]
  },
  {
   "cell_type": "markdown",
   "metadata": {},
   "source": [
    "high group. High group has more loyal customers. They tend to shop more. "
   ]
  }
 ],
 "metadata": {
  "kernelspec": {
   "display_name": "phase1",
   "language": "python",
   "name": "python3"
  },
  "language_info": {
   "codemirror_mode": {
    "name": "ipython",
    "version": 3
   },
   "file_extension": ".py",
   "mimetype": "text/x-python",
   "name": "python",
   "nbconvert_exporter": "python",
   "pygments_lexer": "ipython3",
   "version": "3.11.5"
  }
 },
 "nbformat": 4,
 "nbformat_minor": 2
}
